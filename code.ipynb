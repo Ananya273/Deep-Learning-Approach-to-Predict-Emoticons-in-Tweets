{
  "nbformat": 4,
  "nbformat_minor": 0,
  "metadata": {
    "colab": {
      "name": "twitter_emoji_prediction.ipynb",
      "provenance": [],
      "collapsed_sections": []
    },
    "kernelspec": {
      "display_name": "Python 3",
      "name": "python3"
    },
    "language_info": {
      "name": "python"
    },
    "accelerator": "GPU"
  },
  "cells": [
    {
      "cell_type": "code",
      "metadata": {
        "id": "ANqwaGPPFMal"
      },
      "source": [
        "import numpy as np\n",
        "import pandas as pd\n",
        "import matplotlib.pyplot as plt\n",
        "import re\n",
        "# Import gensim packages\n",
        "import gensim\n",
        "import gensim.corpora as corpora\n",
        "from gensim.utils import simple_preprocess\n",
        "from gensim.models import CoherenceModel\n",
        "# spacy for lemmatization\n",
        "import spacy"
      ],
      "execution_count": 2,
      "outputs": []
    },
    {
      "cell_type": "code",
      "metadata": {
        "id": "OO9OtLiw2IcT"
      },
      "source": [
        "#read data into pandas dataframes\n",
        "train= pd.read_csv('Train.csv')\n",
        "test= pd.read_csv('Test.csv')\n",
        "mapping= pd.read_csv('Mapping.csv')"
      ],
      "execution_count": 3,
      "outputs": []
    },
    {
      "cell_type": "code",
      "metadata": {
        "colab": {
          "base_uri": "https://localhost:8080/",
          "height": 202
        },
        "id": "-fTfnM1y29-K",
        "outputId": "25abc207-16e5-4a3c-d3aa-e031de067158"
      },
      "source": [
        "train.head()"
      ],
      "execution_count": 4,
      "outputs": [
        {
          "output_type": "execute_result",
          "data": {
            "text/html": [
              "<div>\n",
              "<style scoped>\n",
              "    .dataframe tbody tr th:only-of-type {\n",
              "        vertical-align: middle;\n",
              "    }\n",
              "\n",
              "    .dataframe tbody tr th {\n",
              "        vertical-align: top;\n",
              "    }\n",
              "\n",
              "    .dataframe thead th {\n",
              "        text-align: right;\n",
              "    }\n",
              "</style>\n",
              "<table border=\"1\" class=\"dataframe\">\n",
              "  <thead>\n",
              "    <tr style=\"text-align: right;\">\n",
              "      <th></th>\n",
              "      <th>Unnamed: 0</th>\n",
              "      <th>TEXT</th>\n",
              "      <th>Label</th>\n",
              "    </tr>\n",
              "  </thead>\n",
              "  <tbody>\n",
              "    <tr>\n",
              "      <th>0</th>\n",
              "      <td>0</td>\n",
              "      <td>Vacation wasted ! #vacation2017 #photobomb #ti...</td>\n",
              "      <td>0</td>\n",
              "    </tr>\n",
              "    <tr>\n",
              "      <th>1</th>\n",
              "      <td>1</td>\n",
              "      <td>Oh Wynwood, you’re so funny! : @user #Wynwood ...</td>\n",
              "      <td>1</td>\n",
              "    </tr>\n",
              "    <tr>\n",
              "      <th>2</th>\n",
              "      <td>2</td>\n",
              "      <td>Been friends since 7th grade. Look at us now w...</td>\n",
              "      <td>2</td>\n",
              "    </tr>\n",
              "    <tr>\n",
              "      <th>3</th>\n",
              "      <td>3</td>\n",
              "      <td>This is what it looks like when someone loves ...</td>\n",
              "      <td>3</td>\n",
              "    </tr>\n",
              "    <tr>\n",
              "      <th>4</th>\n",
              "      <td>4</td>\n",
              "      <td>RT @user this white family was invited to a Bl...</td>\n",
              "      <td>3</td>\n",
              "    </tr>\n",
              "  </tbody>\n",
              "</table>\n",
              "</div>"
            ],
            "text/plain": [
              "   Unnamed: 0                                               TEXT  Label\n",
              "0           0  Vacation wasted ! #vacation2017 #photobomb #ti...      0\n",
              "1           1  Oh Wynwood, you’re so funny! : @user #Wynwood ...      1\n",
              "2           2  Been friends since 7th grade. Look at us now w...      2\n",
              "3           3  This is what it looks like when someone loves ...      3\n",
              "4           4  RT @user this white family was invited to a Bl...      3"
            ]
          },
          "metadata": {
            "tags": []
          },
          "execution_count": 4
        }
      ]
    },
    {
      "cell_type": "code",
      "metadata": {
        "colab": {
          "base_uri": "https://localhost:8080/",
          "height": 202
        },
        "id": "6jdh77wF3FLa",
        "outputId": "18cdaeda-17ba-4b62-9524-821432419da4"
      },
      "source": [
        "#printing rows of the mapping dataset\n",
        "mapping.head()"
      ],
      "execution_count": 5,
      "outputs": [
        {
          "output_type": "execute_result",
          "data": {
            "text/html": [
              "<div>\n",
              "<style scoped>\n",
              "    .dataframe tbody tr th:only-of-type {\n",
              "        vertical-align: middle;\n",
              "    }\n",
              "\n",
              "    .dataframe tbody tr th {\n",
              "        vertical-align: top;\n",
              "    }\n",
              "\n",
              "    .dataframe thead th {\n",
              "        text-align: right;\n",
              "    }\n",
              "</style>\n",
              "<table border=\"1\" class=\"dataframe\">\n",
              "  <thead>\n",
              "    <tr style=\"text-align: right;\">\n",
              "      <th></th>\n",
              "      <th>Unnamed: 0</th>\n",
              "      <th>emoticons</th>\n",
              "      <th>number</th>\n",
              "    </tr>\n",
              "  </thead>\n",
              "  <tbody>\n",
              "    <tr>\n",
              "      <th>0</th>\n",
              "      <td>0</td>\n",
              "      <td>😜</td>\n",
              "      <td>0</td>\n",
              "    </tr>\n",
              "    <tr>\n",
              "      <th>1</th>\n",
              "      <td>1</td>\n",
              "      <td>📸</td>\n",
              "      <td>1</td>\n",
              "    </tr>\n",
              "    <tr>\n",
              "      <th>2</th>\n",
              "      <td>2</td>\n",
              "      <td>😍</td>\n",
              "      <td>2</td>\n",
              "    </tr>\n",
              "    <tr>\n",
              "      <th>3</th>\n",
              "      <td>3</td>\n",
              "      <td>😂</td>\n",
              "      <td>3</td>\n",
              "    </tr>\n",
              "    <tr>\n",
              "      <th>4</th>\n",
              "      <td>4</td>\n",
              "      <td>😉</td>\n",
              "      <td>4</td>\n",
              "    </tr>\n",
              "  </tbody>\n",
              "</table>\n",
              "</div>"
            ],
            "text/plain": [
              "   Unnamed: 0 emoticons  number\n",
              "0           0         😜       0\n",
              "1           1         📸       1\n",
              "2           2         😍       2\n",
              "3           3         😂       3\n",
              "4           4         😉       4"
            ]
          },
          "metadata": {
            "tags": []
          },
          "execution_count": 5
        }
      ]
    },
    {
      "cell_type": "code",
      "metadata": {
        "colab": {
          "base_uri": "https://localhost:8080/"
        },
        "id": "uep7SEtv3su5",
        "outputId": "16118e6b-830c-4fa2-8afb-11eda7374ea8"
      },
      "source": [
        "mapping.shape"
      ],
      "execution_count": 6,
      "outputs": [
        {
          "output_type": "execute_result",
          "data": {
            "text/plain": [
              "(20, 3)"
            ]
          },
          "metadata": {
            "tags": []
          },
          "execution_count": 6
        }
      ]
    },
    {
      "cell_type": "code",
      "metadata": {
        "colab": {
          "base_uri": "https://localhost:8080/",
          "height": 662
        },
        "id": "3pBc8R4aXv26",
        "outputId": "f375e042-b822-49a2-8b44-83b3c3683db6"
      },
      "source": [
        "#create a dictionary of emoji and number\n",
        "mapping.drop(axis=1, labels='Unnamed: 0')"
      ],
      "execution_count": 7,
      "outputs": [
        {
          "output_type": "execute_result",
          "data": {
            "text/html": [
              "<div>\n",
              "<style scoped>\n",
              "    .dataframe tbody tr th:only-of-type {\n",
              "        vertical-align: middle;\n",
              "    }\n",
              "\n",
              "    .dataframe tbody tr th {\n",
              "        vertical-align: top;\n",
              "    }\n",
              "\n",
              "    .dataframe thead th {\n",
              "        text-align: right;\n",
              "    }\n",
              "</style>\n",
              "<table border=\"1\" class=\"dataframe\">\n",
              "  <thead>\n",
              "    <tr style=\"text-align: right;\">\n",
              "      <th></th>\n",
              "      <th>emoticons</th>\n",
              "      <th>number</th>\n",
              "    </tr>\n",
              "  </thead>\n",
              "  <tbody>\n",
              "    <tr>\n",
              "      <th>0</th>\n",
              "      <td>😜</td>\n",
              "      <td>0</td>\n",
              "    </tr>\n",
              "    <tr>\n",
              "      <th>1</th>\n",
              "      <td>📸</td>\n",
              "      <td>1</td>\n",
              "    </tr>\n",
              "    <tr>\n",
              "      <th>2</th>\n",
              "      <td>😍</td>\n",
              "      <td>2</td>\n",
              "    </tr>\n",
              "    <tr>\n",
              "      <th>3</th>\n",
              "      <td>😂</td>\n",
              "      <td>3</td>\n",
              "    </tr>\n",
              "    <tr>\n",
              "      <th>4</th>\n",
              "      <td>😉</td>\n",
              "      <td>4</td>\n",
              "    </tr>\n",
              "    <tr>\n",
              "      <th>5</th>\n",
              "      <td>🎄</td>\n",
              "      <td>5</td>\n",
              "    </tr>\n",
              "    <tr>\n",
              "      <th>6</th>\n",
              "      <td>📷</td>\n",
              "      <td>6</td>\n",
              "    </tr>\n",
              "    <tr>\n",
              "      <th>7</th>\n",
              "      <td>🔥</td>\n",
              "      <td>7</td>\n",
              "    </tr>\n",
              "    <tr>\n",
              "      <th>8</th>\n",
              "      <td>😘</td>\n",
              "      <td>8</td>\n",
              "    </tr>\n",
              "    <tr>\n",
              "      <th>9</th>\n",
              "      <td>❤</td>\n",
              "      <td>9</td>\n",
              "    </tr>\n",
              "    <tr>\n",
              "      <th>10</th>\n",
              "      <td>😁</td>\n",
              "      <td>10</td>\n",
              "    </tr>\n",
              "    <tr>\n",
              "      <th>11</th>\n",
              "      <td>🇺🇸</td>\n",
              "      <td>11</td>\n",
              "    </tr>\n",
              "    <tr>\n",
              "      <th>12</th>\n",
              "      <td>☀</td>\n",
              "      <td>12</td>\n",
              "    </tr>\n",
              "    <tr>\n",
              "      <th>13</th>\n",
              "      <td>✨</td>\n",
              "      <td>13</td>\n",
              "    </tr>\n",
              "    <tr>\n",
              "      <th>14</th>\n",
              "      <td>💙</td>\n",
              "      <td>14</td>\n",
              "    </tr>\n",
              "    <tr>\n",
              "      <th>15</th>\n",
              "      <td>💕</td>\n",
              "      <td>15</td>\n",
              "    </tr>\n",
              "    <tr>\n",
              "      <th>16</th>\n",
              "      <td>😎</td>\n",
              "      <td>16</td>\n",
              "    </tr>\n",
              "    <tr>\n",
              "      <th>17</th>\n",
              "      <td>😊</td>\n",
              "      <td>17</td>\n",
              "    </tr>\n",
              "    <tr>\n",
              "      <th>18</th>\n",
              "      <td>💜</td>\n",
              "      <td>18</td>\n",
              "    </tr>\n",
              "    <tr>\n",
              "      <th>19</th>\n",
              "      <td>💯</td>\n",
              "      <td>19</td>\n",
              "    </tr>\n",
              "  </tbody>\n",
              "</table>\n",
              "</div>"
            ],
            "text/plain": [
              "   emoticons  number\n",
              "0          😜       0\n",
              "1          📸       1\n",
              "2          😍       2\n",
              "3          😂       3\n",
              "4          😉       4\n",
              "5          🎄       5\n",
              "6          📷       6\n",
              "7          🔥       7\n",
              "8          😘       8\n",
              "9          ❤       9\n",
              "10         😁      10\n",
              "11        🇺🇸      11\n",
              "12         ☀      12\n",
              "13         ✨      13\n",
              "14         💙      14\n",
              "15         💕      15\n",
              "16         😎      16\n",
              "17         😊      17\n",
              "18         💜      18\n",
              "19         💯      19"
            ]
          },
          "metadata": {
            "tags": []
          },
          "execution_count": 7
        }
      ]
    },
    {
      "cell_type": "code",
      "metadata": {
        "id": "5qURcbptZHqQ"
      },
      "source": [
        "#create list of emoticons to input into the hash table\n",
        "emoticons= mapping['emoticons'].to_list()"
      ],
      "execution_count": 8,
      "outputs": []
    },
    {
      "cell_type": "code",
      "metadata": {
        "colab": {
          "base_uri": "https://localhost:8080/"
        },
        "id": "ztNAumReZptQ",
        "outputId": "46431deb-618f-45ea-b68c-81e9dcd8955b"
      },
      "source": [
        "#create hash map of emoticons\n",
        "map={}\n",
        "for emo in range(0, len(emoticons)):\n",
        "  map[emo]= emoticons[emo]\n",
        "\n",
        "print(map)"
      ],
      "execution_count": 9,
      "outputs": [
        {
          "output_type": "stream",
          "text": [
            "{0: '😜', 1: '📸', 2: '😍', 3: '😂', 4: '😉', 5: '🎄', 6: '📷', 7: '🔥', 8: '😘', 9: '❤', 10: '😁', 11: '🇺🇸', 12: '☀', 13: '✨', 14: '💙', 15: '💕', 16: '😎', 17: '😊', 18: '💜', 19: '💯'}\n"
          ],
          "name": "stdout"
        }
      ]
    },
    {
      "cell_type": "code",
      "metadata": {
        "colab": {
          "base_uri": "https://localhost:8080/",
          "height": 363
        },
        "id": "9Vs2M_R-WObA",
        "outputId": "aab25f29-5e5c-430e-ba2b-340f538b8fd2"
      },
      "source": [
        "#plotting frequency of emoticons in descending order to give insight into the most frequently used emoticons\n",
        "plt.rcParams[\"figure.figsize\"] = (20,5)\n",
        "train['Label'].value_counts().plot(kind='bar')\n",
        "plt.xlabel('Emoji number')\n",
        "plt.ylabel('Frequency')\n",
        "plt.title('Plotting frequency of emojis used')"
      ],
      "execution_count": 10,
      "outputs": [
        {
          "output_type": "execute_result",
          "data": {
            "text/plain": [
              "Text(0.5, 1.0, 'Plotting frequency of emojis used')"
            ]
          },
          "metadata": {
            "tags": []
          },
          "execution_count": 10
        },
        {
          "output_type": "display_data",
          "data": {
            "image/png": "[encoded data removed]",
            "text/plain": [
              "<Figure size 1440x360 with 1 Axes>"
            ]
          },
          "metadata": {
            "tags": [],
            "needs_background": "light"
          }
        }
      ]
    },
    {
      "cell_type": "code",
      "metadata": {
        "colab": {
          "base_uri": "https://localhost:8080/",
          "height": 415
        },
        "id": "cPxZPUNsgExJ",
        "outputId": "96a53749-a00d-4482-df37-b58469fde2c6"
      },
      "source": [
        "#drop unnrelated column\n",
        "train.drop('Unnamed: 0',axis=1)"
      ],
      "execution_count": 11,
      "outputs": [
        {
          "output_type": "execute_result",
          "data": {
            "text/html": [
              "<div>\n",
              "<style scoped>\n",
              "    .dataframe tbody tr th:only-of-type {\n",
              "        vertical-align: middle;\n",
              "    }\n",
              "\n",
              "    .dataframe tbody tr th {\n",
              "        vertical-align: top;\n",
              "    }\n",
              "\n",
              "    .dataframe thead th {\n",
              "        text-align: right;\n",
              "    }\n",
              "</style>\n",
              "<table border=\"1\" class=\"dataframe\">\n",
              "  <thead>\n",
              "    <tr style=\"text-align: right;\">\n",
              "      <th></th>\n",
              "      <th>TEXT</th>\n",
              "      <th>Label</th>\n",
              "    </tr>\n",
              "  </thead>\n",
              "  <tbody>\n",
              "    <tr>\n",
              "      <th>0</th>\n",
              "      <td>Vacation wasted ! #vacation2017 #photobomb #ti...</td>\n",
              "      <td>0</td>\n",
              "    </tr>\n",
              "    <tr>\n",
              "      <th>1</th>\n",
              "      <td>Oh Wynwood, you’re so funny! : @user #Wynwood ...</td>\n",
              "      <td>1</td>\n",
              "    </tr>\n",
              "    <tr>\n",
              "      <th>2</th>\n",
              "      <td>Been friends since 7th grade. Look at us now w...</td>\n",
              "      <td>2</td>\n",
              "    </tr>\n",
              "    <tr>\n",
              "      <th>3</th>\n",
              "      <td>This is what it looks like when someone loves ...</td>\n",
              "      <td>3</td>\n",
              "    </tr>\n",
              "    <tr>\n",
              "      <th>4</th>\n",
              "      <td>RT @user this white family was invited to a Bl...</td>\n",
              "      <td>3</td>\n",
              "    </tr>\n",
              "    <tr>\n",
              "      <th>...</th>\n",
              "      <td>...</td>\n",
              "      <td>...</td>\n",
              "    </tr>\n",
              "    <tr>\n",
              "      <th>69995</th>\n",
              "      <td>Yes, I call Galina \"my Bubie\" Go follow my bea...</td>\n",
              "      <td>3</td>\n",
              "    </tr>\n",
              "    <tr>\n",
              "      <th>69996</th>\n",
              "      <td>I SEA you, Seattle @ Ballard Seafood Festival\\n</td>\n",
              "      <td>16</td>\n",
              "    </tr>\n",
              "    <tr>\n",
              "      <th>69997</th>\n",
              "      <td>If one of my daughters is wearing this and ask...</td>\n",
              "      <td>2</td>\n",
              "    </tr>\n",
              "    <tr>\n",
              "      <th>69998</th>\n",
              "      <td>Guess who whoop people on THEIR homecoming?! #...</td>\n",
              "      <td>3</td>\n",
              "    </tr>\n",
              "    <tr>\n",
              "      <th>69999</th>\n",
              "      <td>We Love you Robbie @ Heritage Memorial Cemeter...</td>\n",
              "      <td>14</td>\n",
              "    </tr>\n",
              "  </tbody>\n",
              "</table>\n",
              "<p>70000 rows × 2 columns</p>\n",
              "</div>"
            ],
            "text/plain": [
              "                                                    TEXT  Label\n",
              "0      Vacation wasted ! #vacation2017 #photobomb #ti...      0\n",
              "1      Oh Wynwood, you’re so funny! : @user #Wynwood ...      1\n",
              "2      Been friends since 7th grade. Look at us now w...      2\n",
              "3      This is what it looks like when someone loves ...      3\n",
              "4      RT @user this white family was invited to a Bl...      3\n",
              "...                                                  ...    ...\n",
              "69995  Yes, I call Galina \"my Bubie\" Go follow my bea...      3\n",
              "69996    I SEA you, Seattle @ Ballard Seafood Festival\\n     16\n",
              "69997  If one of my daughters is wearing this and ask...      2\n",
              "69998  Guess who whoop people on THEIR homecoming?! #...      3\n",
              "69999  We Love you Robbie @ Heritage Memorial Cemeter...     14\n",
              "\n",
              "[70000 rows x 2 columns]"
            ]
          },
          "metadata": {
            "tags": []
          },
          "execution_count": 11
        }
      ]
    },
    {
      "cell_type": "code",
      "metadata": {
        "colab": {
          "base_uri": "https://localhost:8080/",
          "height": 202
        },
        "id": "tHJExDkKlTjP",
        "outputId": "2ba13409-0bb4-47b4-f7cb-2a7e8b923d93"
      },
      "source": [
        "#read test data\n",
        "test.head()"
      ],
      "execution_count": 12,
      "outputs": [
        {
          "output_type": "execute_result",
          "data": {
            "text/html": [
              "<div>\n",
              "<style scoped>\n",
              "    .dataframe tbody tr th:only-of-type {\n",
              "        vertical-align: middle;\n",
              "    }\n",
              "\n",
              "    .dataframe tbody tr th {\n",
              "        vertical-align: top;\n",
              "    }\n",
              "\n",
              "    .dataframe thead th {\n",
              "        text-align: right;\n",
              "    }\n",
              "</style>\n",
              "<table border=\"1\" class=\"dataframe\">\n",
              "  <thead>\n",
              "    <tr style=\"text-align: right;\">\n",
              "      <th></th>\n",
              "      <th>Unnamed: 0</th>\n",
              "      <th>id</th>\n",
              "      <th>TEXT</th>\n",
              "    </tr>\n",
              "  </thead>\n",
              "  <tbody>\n",
              "    <tr>\n",
              "      <th>0</th>\n",
              "      <td>0</td>\n",
              "      <td>0</td>\n",
              "      <td>Thought this was cool...#Repost (get_repost)・・...</td>\n",
              "    </tr>\n",
              "    <tr>\n",
              "      <th>1</th>\n",
              "      <td>1</td>\n",
              "      <td>1</td>\n",
              "      <td>Happy 4th! Corte madera parade. #everytownusa ...</td>\n",
              "    </tr>\n",
              "    <tr>\n",
              "      <th>2</th>\n",
              "      <td>2</td>\n",
              "      <td>2</td>\n",
              "      <td>Luv. Or at least something close to it. @ Unio...</td>\n",
              "    </tr>\n",
              "    <tr>\n",
              "      <th>3</th>\n",
              "      <td>3</td>\n",
              "      <td>3</td>\n",
              "      <td>There's a slice of pie under that whipped crea...</td>\n",
              "    </tr>\n",
              "    <tr>\n",
              "      <th>4</th>\n",
              "      <td>5</td>\n",
              "      <td>5</td>\n",
              "      <td>#thankyou for your thank you We adore you both...</td>\n",
              "    </tr>\n",
              "  </tbody>\n",
              "</table>\n",
              "</div>"
            ],
            "text/plain": [
              "   Unnamed: 0  id                                               TEXT\n",
              "0           0   0  Thought this was cool...#Repost (get_repost)・・...\n",
              "1           1   1  Happy 4th! Corte madera parade. #everytownusa ...\n",
              "2           2   2  Luv. Or at least something close to it. @ Unio...\n",
              "3           3   3  There's a slice of pie under that whipped crea...\n",
              "4           5   5  #thankyou for your thank you We adore you both..."
            ]
          },
          "metadata": {
            "tags": []
          },
          "execution_count": 12
        }
      ]
    },
    {
      "cell_type": "code",
      "metadata": {
        "colab": {
          "base_uri": "https://localhost:8080/",
          "height": 415
        },
        "id": "5nIwEzKtlXE2",
        "outputId": "539d3d83-6ef1-41f4-e9b7-bacb9d2560d6"
      },
      "source": [
        "test.drop('Unnamed: 0', axis=1)"
      ],
      "execution_count": 13,
      "outputs": [
        {
          "output_type": "execute_result",
          "data": {
            "text/html": [
              "<div>\n",
              "<style scoped>\n",
              "    .dataframe tbody tr th:only-of-type {\n",
              "        vertical-align: middle;\n",
              "    }\n",
              "\n",
              "    .dataframe tbody tr th {\n",
              "        vertical-align: top;\n",
              "    }\n",
              "\n",
              "    .dataframe thead th {\n",
              "        text-align: right;\n",
              "    }\n",
              "</style>\n",
              "<table border=\"1\" class=\"dataframe\">\n",
              "  <thead>\n",
              "    <tr style=\"text-align: right;\">\n",
              "      <th></th>\n",
              "      <th>id</th>\n",
              "      <th>TEXT</th>\n",
              "    </tr>\n",
              "  </thead>\n",
              "  <tbody>\n",
              "    <tr>\n",
              "      <th>0</th>\n",
              "      <td>0</td>\n",
              "      <td>Thought this was cool...#Repost (get_repost)・・...</td>\n",
              "    </tr>\n",
              "    <tr>\n",
              "      <th>1</th>\n",
              "      <td>1</td>\n",
              "      <td>Happy 4th! Corte madera parade. #everytownusa ...</td>\n",
              "    </tr>\n",
              "    <tr>\n",
              "      <th>2</th>\n",
              "      <td>2</td>\n",
              "      <td>Luv. Or at least something close to it. @ Unio...</td>\n",
              "    </tr>\n",
              "    <tr>\n",
              "      <th>3</th>\n",
              "      <td>3</td>\n",
              "      <td>There's a slice of pie under that whipped crea...</td>\n",
              "    </tr>\n",
              "    <tr>\n",
              "      <th>4</th>\n",
              "      <td>5</td>\n",
              "      <td>#thankyou for your thank you We adore you both...</td>\n",
              "    </tr>\n",
              "    <tr>\n",
              "      <th>...</th>\n",
              "      <td>...</td>\n",
              "      <td>...</td>\n",
              "    </tr>\n",
              "    <tr>\n",
              "      <th>25953</th>\n",
              "      <td>29993</td>\n",
              "      <td>Rest In Peace, Nana. thanks for playing cards ...</td>\n",
              "    </tr>\n",
              "    <tr>\n",
              "      <th>25954</th>\n",
              "      <td>29994</td>\n",
              "      <td>I jus wan EAT #chowtime #swt30 @ Hartford, Con...</td>\n",
              "    </tr>\n",
              "    <tr>\n",
              "      <th>25955</th>\n",
              "      <td>29995</td>\n",
              "      <td>Playing Bloon SuperMonkey 2 #bloonsupermonkey2...</td>\n",
              "    </tr>\n",
              "    <tr>\n",
              "      <th>25956</th>\n",
              "      <td>29998</td>\n",
              "      <td>Best Snow-cone I've EVER had!!! #bahamabucks #...</td>\n",
              "    </tr>\n",
              "    <tr>\n",
              "      <th>25957</th>\n",
              "      <td>29999</td>\n",
              "      <td>You making my life better is just part of your...</td>\n",
              "    </tr>\n",
              "  </tbody>\n",
              "</table>\n",
              "<p>25958 rows × 2 columns</p>\n",
              "</div>"
            ],
            "text/plain": [
              "          id                                               TEXT\n",
              "0          0  Thought this was cool...#Repost (get_repost)・・...\n",
              "1          1  Happy 4th! Corte madera parade. #everytownusa ...\n",
              "2          2  Luv. Or at least something close to it. @ Unio...\n",
              "3          3  There's a slice of pie under that whipped crea...\n",
              "4          5  #thankyou for your thank you We adore you both...\n",
              "...      ...                                                ...\n",
              "25953  29993  Rest In Peace, Nana. thanks for playing cards ...\n",
              "25954  29994  I jus wan EAT #chowtime #swt30 @ Hartford, Con...\n",
              "25955  29995  Playing Bloon SuperMonkey 2 #bloonsupermonkey2...\n",
              "25956  29998  Best Snow-cone I've EVER had!!! #bahamabucks #...\n",
              "25957  29999  You making my life better is just part of your...\n",
              "\n",
              "[25958 rows x 2 columns]"
            ]
          },
          "metadata": {
            "tags": []
          },
          "execution_count": 13
        }
      ]
    },
    {
      "cell_type": "code",
      "metadata": {
        "id": "v-niaP4wl_FI"
      },
      "source": [
        "#create training and test data\n",
        "x_train= train.TEXT.values\n",
        "y_train= train.Label.values\n",
        "x_test= test.TEXT.values"
      ],
      "execution_count": 14,
      "outputs": []
    },
    {
      "cell_type": "code",
      "metadata": {
        "colab": {
          "base_uri": "https://localhost:8080/"
        },
        "id": "h9pxDEzMp9Pz",
        "outputId": "1d626301-3df7-4ff7-953f-2301e7ca6489"
      },
      "source": [
        "x_train[:1]"
      ],
      "execution_count": 15,
      "outputs": [
        {
          "output_type": "execute_result",
          "data": {
            "text/plain": [
              "array(['Vacation wasted ! #vacation2017 #photobomb #tired #vacationwasted #mcgar30 #miami @ Port of…\\n'],\n",
              "      dtype=object)"
            ]
          },
          "metadata": {
            "tags": []
          },
          "execution_count": 15
        }
      ]
    },
    {
      "cell_type": "code",
      "metadata": {
        "colab": {
          "base_uri": "https://localhost:8080/"
        },
        "id": "Ny91pO7FtM7I",
        "outputId": "788b8c20-9eb6-4b85-ef8f-8c67d3c6d163"
      },
      "source": [
        "#Tokenising using TweetTokeniser to make x_train_words\n",
        "from nltk.tokenize import TweetTokenizer\n",
        "tweet_tokenizer = TweetTokenizer()\n",
        "\n",
        "x_train_words=[]\n",
        "for sentence in x_train:\n",
        "  x_train_words.append(tweet_tokenizer.tokenize(sentence))\n",
        "print(x_train_words[:1])"
      ],
      "execution_count": 16,
      "outputs": [
        {
          "output_type": "stream",
          "text": [
            "[['Vacation', 'wasted', '!', '#vacation2017', '#photobomb', '#tired', '#vacationwasted', '#mcgar30', '#miami', '@', 'Port', 'of', '…']]\n"
          ],
          "name": "stdout"
        }
      ]
    },
    {
      "cell_type": "code",
      "metadata": {
        "colab": {
          "base_uri": "https://localhost:8080/"
        },
        "id": "Vta8ToqQbBx4",
        "outputId": "355f4468-c7a2-4dae-a5bf-9d236b8d69df"
      },
      "source": [
        "#download the glove text by stanford \n",
        "!wget http://nlp.stanford.edu/data/glove.6B.zip"
      ],
      "execution_count": 17,
      "outputs": [
        {
          "output_type": "stream",
          "text": [
            "--2021-05-24 06:01:22--  http://nlp.stanford.edu/data/glove.6B.zip\n",
            "Resolving nlp.stanford.edu (nlp.stanford.edu)... 171.64.67.140\n",
            "Connecting to nlp.stanford.edu (nlp.stanford.edu)|171.64.67.140|:80... connected.\n",
            "HTTP request sent, awaiting response... 302 Found\n",
            "Location: https://nlp.stanford.edu/data/glove.6B.zip [following]\n",
            "--2021-05-24 06:01:23--  https://nlp.stanford.edu/data/glove.6B.zip\n",
            "Connecting to nlp.stanford.edu (nlp.stanford.edu)|171.64.67.140|:443... connected.\n",
            "HTTP request sent, awaiting response... 301 Moved Permanently\n",
            "Location: http://downloads.cs.stanford.edu/nlp/data/glove.6B.zip [following]\n",
            "--2021-05-24 06:01:23--  http://downloads.cs.stanford.edu/nlp/data/glove.6B.zip\n",
            "Resolving downloads.cs.stanford.edu (downloads.cs.stanford.edu)... 171.64.64.22\n",
            "Connecting to downloads.cs.stanford.edu (downloads.cs.stanford.edu)|171.64.64.22|:80... connected.\n",
            "HTTP request sent, awaiting response... 200 OK\n",
            "Length: 862182613 (822M) [application/zip]\n",
            "Saving to: ‘glove.6B.zip’\n",
            "\n",
            "glove.6B.zip        100%[===================>] 822.24M  5.03MB/s    in 2m 42s  \n",
            "\n",
            "2021-05-24 06:04:04 (5.09 MB/s) - ‘glove.6B.zip’ saved [862182613/862182613]\n",
            "\n"
          ],
          "name": "stdout"
        }
      ]
    },
    {
      "cell_type": "code",
      "metadata": {
        "id": "IOGiIehlbvEu"
      },
      "source": [
        "import zipfile\n",
        "zip_ref = zipfile.ZipFile('glove.6B.zip', 'r')\n",
        "zip_ref.extractall('glove.6B.txt')\n",
        "zip_ref.close()"
      ],
      "execution_count": 18,
      "outputs": []
    },
    {
      "cell_type": "code",
      "metadata": {
        "colab": {
          "base_uri": "https://localhost:8080/"
        },
        "id": "MZ-TCqQEcco7",
        "outputId": "0ba6a49d-4d74-445d-bd80-fb7ce13d5e14"
      },
      "source": [
        "#create dictionary of word values\n",
        "f=  open(\"glove.6B.txt/glove.6B.50d.txt\", encoding='utf8')\n",
        "print(f.read(1000))"
      ],
      "execution_count": 19,
      "outputs": [
        {
          "output_type": "stream",
          "text": [
            "the 0.418 0.24968 -0.41242 0.1217 0.34527 -0.044457 -0.49688 -0.17862 -0.00066023 -0.6566 0.27843 -0.14767 -0.55677 0.14658 -0.0095095 0.011658 0.10204 -0.12792 -0.8443 -0.12181 -0.016801 -0.33279 -0.1552 -0.23131 -0.19181 -1.8823 -0.76746 0.099051 -0.42125 -0.19526 4.0071 -0.18594 -0.52287 -0.31681 0.00059213 0.0074449 0.17778 -0.15897 0.012041 -0.054223 -0.29871 -0.15749 -0.34758 -0.045637 -0.44251 0.18785 0.0027849 -0.18411 -0.11514 -0.78581\n",
            ", 0.013441 0.23682 -0.16899 0.40951 0.63812 0.47709 -0.42852 -0.55641 -0.364 -0.23938 0.13001 -0.063734 -0.39575 -0.48162 0.23291 0.090201 -0.13324 0.078639 -0.41634 -0.15428 0.10068 0.48891 0.31226 -0.1252 -0.037512 -1.5179 0.12612 -0.02442 -0.042961 -0.28351 3.5416 -0.11956 -0.014533 -0.1499 0.21864 -0.33412 -0.13872 0.31806 0.70358 0.44858 -0.080262 0.63003 0.32111 -0.46765 0.22786 0.36034 -0.37818 -0.56657 0.044691 0.30392\n",
            ". 0.15164 0.30177 -0.16763 0.17684 0.31719 0.33973 -0.43478 -0.31086 -0.44999 -0.29486 0.16608 0.11963 -0.41328 -0.42353\n"
          ],
          "name": "stdout"
        }
      ]
    },
    {
      "cell_type": "code",
      "metadata": {
        "id": "fhUHQVL9dy9a"
      },
      "source": [
        "#hash table to contain the values of words in the glove text\n",
        "embedding_index= {}\n",
        "for line in f:\n",
        "    values = line.split()\n",
        "    word = values[0]\n",
        "    emb = np.array(values[1:], dtype ='float')\n",
        "    embedding_index[word] = emb"
      ],
      "execution_count": 20,
      "outputs": []
    },
    {
      "cell_type": "code",
      "metadata": {
        "id": "ke4l--QlUiaO"
      },
      "source": [
        "#function to generate the word values matrix of the training data using the glove data\n",
        "def get_embedding_output(X):\n",
        "    maxLen = 20\n",
        "    embedding_output = np.zeros((len(X), maxLen, 50))\n",
        "    \n",
        "    for ix in range(X.shape[0]):\n",
        "        my_example = X[ix].split()\n",
        "        \n",
        "        #print(my_example)       \n",
        "        for ij in range(len(my_example)): \n",
        "            if (embedding_index.get(my_example[ij].lower()) is not None) and (ij<maxLen):\n",
        "                embedding_output[ix][ij] = embedding_index[my_example[ij].lower()]\n",
        "            \n",
        "    return embedding_output"
      ],
      "execution_count": 21,
      "outputs": []
    },
    {
      "cell_type": "code",
      "metadata": {
        "id": "vW6oyr3Wh6-X"
      },
      "source": [
        "#call function for embedding and generating matrix of required size\n",
        "x_train_embed = get_embedding_output(x_train)"
      ],
      "execution_count": 22,
      "outputs": []
    },
    {
      "cell_type": "code",
      "metadata": {
        "colab": {
          "base_uri": "https://localhost:8080/"
        },
        "id": "MkKqcpEijfti",
        "outputId": "38607011-7eb0-4c45-aaff-2147c6f0b2e6"
      },
      "source": [
        "print(x_train_embed.shape)"
      ],
      "execution_count": 23,
      "outputs": [
        {
          "output_type": "stream",
          "text": [
            "(70000, 20, 50)\n"
          ],
          "name": "stdout"
        }
      ]
    },
    {
      "cell_type": "code",
      "metadata": {
        "id": "C_43f7z4kd_S"
      },
      "source": [
        "#One hot encoding on the label data\n",
        "from keras.utils import to_categorical\n",
        "y_train= to_categorical(y_train)\n",
        "#print(y_train[1])"
      ],
      "execution_count": 24,
      "outputs": []
    },
    {
      "cell_type": "code",
      "metadata": {
        "colab": {
          "base_uri": "https://localhost:8080/"
        },
        "id": "v-JcMKVAlLSG",
        "outputId": "5477eab2-58a8-47ed-e206-a9876bdccc41"
      },
      "source": [
        "#SMOTE to prevent imbalanced classification\n",
        "from imblearn.over_sampling import SMOTE\n",
        "x_train_embed.shape\n",
        "x_train_embed = x_train_embed.reshape(-1, 1000)"
      ],
      "execution_count": 25,
      "outputs": [
        {
          "output_type": "stream",
          "text": [
            "/usr/local/lib/python3.7/dist-packages/sklearn/externals/six.py:31: FutureWarning: The module is deprecated in version 0.21 and will be removed in version 0.23 since we've dropped support for Python 2.7. Please rely on the official version of six (https://pypi.org/project/six/).\n",
            "  \"(https://pypi.org/project/six/).\", FutureWarning)\n",
            "/usr/local/lib/python3.7/dist-packages/sklearn/utils/deprecation.py:144: FutureWarning: The sklearn.neighbors.base module is  deprecated in version 0.22 and will be removed in version 0.24. The corresponding classes / functions should instead be imported from sklearn.neighbors. Anything that cannot be imported from sklearn.neighbors is now part of the private API.\n",
            "  warnings.warn(message, FutureWarning)\n"
          ],
          "name": "stderr"
        }
      ]
    },
    {
      "cell_type": "code",
      "metadata": {
        "colab": {
          "base_uri": "https://localhost:8080/"
        },
        "id": "0nvqesxvVfvm",
        "outputId": "eb650573-1cdd-4746-db28-679de50cbcdd"
      },
      "source": [
        "oversample = SMOTE()\n",
        "X, y = oversample.fit_resample(x_train_embed, y_train)"
      ],
      "execution_count": 26,
      "outputs": [
        {
          "output_type": "stream",
          "text": [
            "/usr/local/lib/python3.7/dist-packages/sklearn/utils/deprecation.py:87: FutureWarning: Function safe_indexing is deprecated; safe_indexing is deprecated in version 0.22 and will be removed in version 0.24.\n",
            "  warnings.warn(msg, category=FutureWarning)\n",
            "/usr/local/lib/python3.7/dist-packages/sklearn/utils/deprecation.py:87: FutureWarning: Function safe_indexing is deprecated; safe_indexing is deprecated in version 0.22 and will be removed in version 0.24.\n",
            "  warnings.warn(msg, category=FutureWarning)\n",
            "/usr/local/lib/python3.7/dist-packages/sklearn/utils/deprecation.py:87: FutureWarning: Function safe_indexing is deprecated; safe_indexing is deprecated in version 0.22 and will be removed in version 0.24.\n",
            "  warnings.warn(msg, category=FutureWarning)\n",
            "/usr/local/lib/python3.7/dist-packages/sklearn/utils/deprecation.py:87: FutureWarning: Function safe_indexing is deprecated; safe_indexing is deprecated in version 0.22 and will be removed in version 0.24.\n",
            "  warnings.warn(msg, category=FutureWarning)\n",
            "/usr/local/lib/python3.7/dist-packages/sklearn/utils/deprecation.py:87: FutureWarning: Function safe_indexing is deprecated; safe_indexing is deprecated in version 0.22 and will be removed in version 0.24.\n",
            "  warnings.warn(msg, category=FutureWarning)\n",
            "/usr/local/lib/python3.7/dist-packages/sklearn/utils/deprecation.py:87: FutureWarning: Function safe_indexing is deprecated; safe_indexing is deprecated in version 0.22 and will be removed in version 0.24.\n",
            "  warnings.warn(msg, category=FutureWarning)\n",
            "/usr/local/lib/python3.7/dist-packages/sklearn/utils/deprecation.py:87: FutureWarning: Function safe_indexing is deprecated; safe_indexing is deprecated in version 0.22 and will be removed in version 0.24.\n",
            "  warnings.warn(msg, category=FutureWarning)\n",
            "/usr/local/lib/python3.7/dist-packages/sklearn/utils/deprecation.py:87: FutureWarning: Function safe_indexing is deprecated; safe_indexing is deprecated in version 0.22 and will be removed in version 0.24.\n",
            "  warnings.warn(msg, category=FutureWarning)\n",
            "/usr/local/lib/python3.7/dist-packages/sklearn/utils/deprecation.py:87: FutureWarning: Function safe_indexing is deprecated; safe_indexing is deprecated in version 0.22 and will be removed in version 0.24.\n",
            "  warnings.warn(msg, category=FutureWarning)\n",
            "/usr/local/lib/python3.7/dist-packages/sklearn/utils/deprecation.py:87: FutureWarning: Function safe_indexing is deprecated; safe_indexing is deprecated in version 0.22 and will be removed in version 0.24.\n",
            "  warnings.warn(msg, category=FutureWarning)\n",
            "/usr/local/lib/python3.7/dist-packages/sklearn/utils/deprecation.py:87: FutureWarning: Function safe_indexing is deprecated; safe_indexing is deprecated in version 0.22 and will be removed in version 0.24.\n",
            "  warnings.warn(msg, category=FutureWarning)\n",
            "/usr/local/lib/python3.7/dist-packages/sklearn/utils/deprecation.py:87: FutureWarning: Function safe_indexing is deprecated; safe_indexing is deprecated in version 0.22 and will be removed in version 0.24.\n",
            "  warnings.warn(msg, category=FutureWarning)\n",
            "/usr/local/lib/python3.7/dist-packages/sklearn/utils/deprecation.py:87: FutureWarning: Function safe_indexing is deprecated; safe_indexing is deprecated in version 0.22 and will be removed in version 0.24.\n",
            "  warnings.warn(msg, category=FutureWarning)\n",
            "/usr/local/lib/python3.7/dist-packages/sklearn/utils/deprecation.py:87: FutureWarning: Function safe_indexing is deprecated; safe_indexing is deprecated in version 0.22 and will be removed in version 0.24.\n",
            "  warnings.warn(msg, category=FutureWarning)\n",
            "/usr/local/lib/python3.7/dist-packages/sklearn/utils/deprecation.py:87: FutureWarning: Function safe_indexing is deprecated; safe_indexing is deprecated in version 0.22 and will be removed in version 0.24.\n",
            "  warnings.warn(msg, category=FutureWarning)\n",
            "/usr/local/lib/python3.7/dist-packages/sklearn/utils/deprecation.py:87: FutureWarning: Function safe_indexing is deprecated; safe_indexing is deprecated in version 0.22 and will be removed in version 0.24.\n",
            "  warnings.warn(msg, category=FutureWarning)\n",
            "/usr/local/lib/python3.7/dist-packages/sklearn/utils/deprecation.py:87: FutureWarning: Function safe_indexing is deprecated; safe_indexing is deprecated in version 0.22 and will be removed in version 0.24.\n",
            "  warnings.warn(msg, category=FutureWarning)\n",
            "/usr/local/lib/python3.7/dist-packages/sklearn/utils/deprecation.py:87: FutureWarning: Function safe_indexing is deprecated; safe_indexing is deprecated in version 0.22 and will be removed in version 0.24.\n",
            "  warnings.warn(msg, category=FutureWarning)\n",
            "/usr/local/lib/python3.7/dist-packages/sklearn/utils/deprecation.py:87: FutureWarning: Function safe_indexing is deprecated; safe_indexing is deprecated in version 0.22 and will be removed in version 0.24.\n",
            "  warnings.warn(msg, category=FutureWarning)\n"
          ],
          "name": "stderr"
        }
      ]
    },
    {
      "cell_type": "code",
      "metadata": {
        "colab": {
          "base_uri": "https://localhost:8080/"
        },
        "id": "V1KdmwhiVmJk",
        "outputId": "14d6b0c3-1a8b-427f-f258-1fa0fbc45e3e"
      },
      "source": [
        "X = X.reshape(-1, 20, 50)\n",
        "X.shape, y.shape"
      ],
      "execution_count": 27,
      "outputs": [
        {
          "output_type": "execute_result",
          "data": {
            "text/plain": [
              "((301820, 20, 50), (301820, 20))"
            ]
          },
          "metadata": {
            "tags": []
          },
          "execution_count": 27
        }
      ]
    },
    {
      "cell_type": "code",
      "metadata": {
        "id": "FlrrIg6MVs96"
      },
      "source": [
        "#Split into train and validation data\n",
        "from sklearn.model_selection import train_test_split\n",
        "x1, x2, y1, y2 = train_test_split(X, y, test_size=0.2, random_state=42)"
      ],
      "execution_count": 28,
      "outputs": []
    },
    {
      "cell_type": "code",
      "metadata": {
        "id": "_5zo08G-V4QI"
      },
      "source": [
        "#import keras packages to support LSTM\n",
        "from keras.models import Sequential \n",
        "from keras.layers import LSTM, Dense, Dropout, Bidirectional"
      ],
      "execution_count": 29,
      "outputs": []
    },
    {
      "cell_type": "code",
      "metadata": {
        "colab": {
          "base_uri": "https://localhost:8080/"
        },
        "id": "a6rtYXMNV9oD",
        "outputId": "5ca09dcf-e9a4-4584-9c71-c7a075cf00e4"
      },
      "source": [
        "#create model using bidirectional LSTM\n",
        "\n",
        "model = Sequential()\n",
        "model.add(Bidirectional(LSTM(units = 512, return_sequences=True), input_shape = (20,50)))\n",
        "model.add(Dropout(0.3))\n",
        "model.add(Bidirectional(LSTM(units=256)))\n",
        "model.add(Dropout(0.3))\n",
        "model.add(Dense(units=128, activation='relu'))\n",
        "model.add(Dense(units=64, activation='relu'))\n",
        "model.add(Dense(units=32, activation='relu'))\n",
        "model.add(Dense(units=20, activation='softmax'))\n",
        "model.summary()"
      ],
      "execution_count": 30,
      "outputs": [
        {
          "output_type": "stream",
          "text": [
            "Model: \"sequential\"\n",
            "_________________________________________________________________\n",
            "Layer (type)                 Output Shape              Param #   \n",
            "=================================================================\n",
            "bidirectional (Bidirectional (None, 20, 1024)          2306048   \n",
            "_________________________________________________________________\n",
            "dropout (Dropout)            (None, 20, 1024)          0         \n",
            "_________________________________________________________________\n",
            "bidirectional_1 (Bidirection (None, 512)               2623488   \n",
            "_________________________________________________________________\n",
            "dropout_1 (Dropout)          (None, 512)               0         \n",
            "_________________________________________________________________\n",
            "dense (Dense)                (None, 128)               65664     \n",
            "_________________________________________________________________\n",
            "dense_1 (Dense)              (None, 64)                8256      \n",
            "_________________________________________________________________\n",
            "dense_2 (Dense)              (None, 32)                2080      \n",
            "_________________________________________________________________\n",
            "dense_3 (Dense)              (None, 20)                660       \n",
            "=================================================================\n",
            "Total params: 5,006,196\n",
            "Trainable params: 5,006,196\n",
            "Non-trainable params: 0\n",
            "_________________________________________________________________\n"
          ],
          "name": "stdout"
        }
      ]
    },
    {
      "cell_type": "code",
      "metadata": {
        "id": "BevY5DxXWTcX"
      },
      "source": [
        "#Compile the model using adam optimiser\n",
        "model.compile(optimizer='adam', loss='categorical_crossentropy', metrics =['accuracy'])"
      ],
      "execution_count": 31,
      "outputs": []
    },
    {
      "cell_type": "code",
      "metadata": {
        "id": "fzKbIk2_WYbk",
        "colab": {
          "base_uri": "https://localhost:8080/"
        },
        "outputId": "40cf8ed6-a72e-4665-b202-237d377cd268"
      },
      "source": [
        "#fit the mmodel on given training data\n",
        "history = model.fit(x1, y1, validation_split=0.2,batch_size=256, epochs=15)"
      ],
      "execution_count": 32,
      "outputs": [
        {
          "output_type": "stream",
          "text": [
            "Epoch 1/15\n",
            "755/755 [==============================] - 81s 60ms/step - loss: 2.7578 - accuracy: 0.1463 - val_loss: 2.4592 - val_accuracy: 0.2411\n",
            "Epoch 2/15\n",
            "755/755 [==============================] - 45s 60ms/step - loss: 2.3933 - accuracy: 0.2627 - val_loss: 2.1571 - val_accuracy: 0.3381\n",
            "Epoch 3/15\n",
            "755/755 [==============================] - 47s 63ms/step - loss: 2.0315 - accuracy: 0.3736 - val_loss: 1.7328 - val_accuracy: 0.4708\n",
            "Epoch 4/15\n",
            "755/755 [==============================] - 47s 62ms/step - loss: 1.5238 - accuracy: 0.5301 - val_loss: 1.3400 - val_accuracy: 0.5926\n",
            "Epoch 5/15\n",
            "755/755 [==============================] - 47s 63ms/step - loss: 1.1034 - accuracy: 0.6587 - val_loss: 1.0960 - val_accuracy: 0.6712\n",
            "Epoch 6/15\n",
            "755/755 [==============================] - 47s 62ms/step - loss: 0.8157 - accuracy: 0.7456 - val_loss: 0.9359 - val_accuracy: 0.7247\n",
            "Epoch 7/15\n",
            "755/755 [==============================] - 47s 63ms/step - loss: 0.6316 - accuracy: 0.7997 - val_loss: 0.8691 - val_accuracy: 0.7515\n",
            "Epoch 8/15\n",
            "755/755 [==============================] - 47s 63ms/step - loss: 0.5054 - accuracy: 0.8392 - val_loss: 0.8080 - val_accuracy: 0.7731\n",
            "Epoch 9/15\n",
            "755/755 [==============================] - 47s 62ms/step - loss: 0.4240 - accuracy: 0.8649 - val_loss: 0.7947 - val_accuracy: 0.7866\n",
            "Epoch 10/15\n",
            "755/755 [==============================] - 47s 62ms/step - loss: 0.3642 - accuracy: 0.8829 - val_loss: 0.7864 - val_accuracy: 0.7940\n",
            "Epoch 11/15\n",
            "755/755 [==============================] - 47s 63ms/step - loss: 0.3185 - accuracy: 0.8983 - val_loss: 0.7648 - val_accuracy: 0.8070\n",
            "Epoch 12/15\n",
            "755/755 [==============================] - 47s 63ms/step - loss: 0.2839 - accuracy: 0.9094 - val_loss: 0.7712 - val_accuracy: 0.8102\n",
            "Epoch 13/15\n",
            "755/755 [==============================] - 47s 62ms/step - loss: 0.2556 - accuracy: 0.9190 - val_loss: 0.8057 - val_accuracy: 0.8111\n",
            "Epoch 14/15\n",
            "755/755 [==============================] - 47s 62ms/step - loss: 0.2408 - accuracy: 0.9228 - val_loss: 0.8217 - val_accuracy: 0.8130\n",
            "Epoch 15/15\n",
            "755/755 [==============================] - 47s 62ms/step - loss: 0.2215 - accuracy: 0.9285 - val_loss: 0.7962 - val_accuracy: 0.8179\n"
          ],
          "name": "stdout"
        }
      ]
    },
    {
      "cell_type": "code",
      "metadata": {
        "id": "ATTRJuGhWdBl",
        "colab": {
          "base_uri": "https://localhost:8080/"
        },
        "outputId": "26a10bb7-eecc-4006-cc0f-017f4b182119"
      },
      "source": [
        "#check accuracy of model using validation data\n",
        "model.evaluate(x2, y2)"
      ],
      "execution_count": 33,
      "outputs": [
        {
          "output_type": "stream",
          "text": [
            "1887/1887 [==============================] - 12s 6ms/step - loss: 0.7695 - accuracy: 0.8226\n"
          ],
          "name": "stdout"
        },
        {
          "output_type": "execute_result",
          "data": {
            "text/plain": [
              "[0.7695420980453491, 0.8226260542869568]"
            ]
          },
          "metadata": {
            "tags": []
          },
          "execution_count": 33
        }
      ]
    },
    {
      "cell_type": "markdown",
      "metadata": {
        "id": "JklUP6YvzZjP"
      },
      "source": [
        "### `Accuracy is 82.26 per cent.`\n",
        "\n"
      ]
    }
  ]
}